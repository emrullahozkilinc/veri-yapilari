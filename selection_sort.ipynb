{
  "nbformat": 4,
  "nbformat_minor": 0,
  "metadata": {
    "colab": {
      "name": "selection_sort.ipynb",
      "provenance": [],
      "authorship_tag": "ABX9TyP9ateKoTwyNIemhDgcat2O",
      "include_colab_link": true
    },
    "kernelspec": {
      "name": "python3",
      "display_name": "Python 3"
    }
  },
  "cells": [
    {
      "cell_type": "markdown",
      "metadata": {
        "id": "view-in-github",
        "colab_type": "text"
      },
      "source": [
        "<a href=\"https://colab.research.google.com/github/emrullahozkilinc/veri-yapilari/blob/master/selection_sort.ipynb\" target=\"_parent\"><img src=\"https://colab.research.google.com/assets/colab-badge.svg\" alt=\"Open In Colab\"/></a>"
      ]
    },
    {
      "cell_type": "code",
      "metadata": {
        "id": "tGeme-ddg8Kt",
        "colab_type": "code",
        "outputId": "a85038e3-2ff1-4227-faac-911e0556eb82",
        "colab": {
          "base_uri": "https://localhost:8080/",
          "height": 34
        }
      },
      "source": [
        "L=[5,1,8,6,4,3]\n",
        "\n",
        "# i değişkeni sıralanmış değerlerin sayısını verir.\n",
        "for i in range(len(L)-1):\n",
        "  # En küçük değeri bulmak için indisin ilk elemanını en küçük değer\n",
        "  # olarak kabul ediyoruz. Eğer daha küçük bir değer bulursak değiştireceğiz.\n",
        "  en_kucuk = i\n",
        "  # We then use j to loop through the remaining elements\n",
        "  for j in range(i+1, len(L)-1):\n",
        "    # En küçük değeri bul ve 'en_kucuk' içerisine at.\n",
        "    if L[j] < L[en_kucuk]:\n",
        "      en_kucuk = j\n",
        "  # Bulunan 'en_kucuk' değeri başa al baştaki değeri 'en_kucuk' sayısının yerine koy\n",
        "  L[i], L[en_kucuk] = L[en_kucuk], L[i]\n",
        "\n",
        "L"
      ],
      "execution_count": 0,
      "outputs": [
        {
          "output_type": "execute_result",
          "data": {
            "text/plain": [
              "[1, 4, 5, 6, 8, 3]"
            ]
          },
          "metadata": {
            "tags": []
          },
          "execution_count": 1
        }
      ]
    }
  ]
}